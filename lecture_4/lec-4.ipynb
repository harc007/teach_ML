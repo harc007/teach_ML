{
 "cells": [
  {
   "cell_type": "code",
   "execution_count": 1,
   "metadata": {
    "collapsed": true
   },
   "outputs": [],
   "source": [
    "import pandas as pd\n",
    "import os\n",
    "from matplotlib import pyplot as plt\n",
    "from sklearn.linear_model import LinearRegression\n",
    "import numpy as np"
   ]
  },
  {
   "cell_type": "code",
   "execution_count": 2,
   "metadata": {},
   "outputs": [
    {
     "name": "stdout",
     "output_type": "stream",
     "text": [
      "C:\\Users\\gsshacha\\Desktop\\l4\\lin_reg_data.csv\n"
     ]
    }
   ],
   "source": [
    "BASE_LOCN = os.getcwd()\n",
    "fname = os.path.join(BASE_LOCN, \"lin_reg_data.csv\")\n",
    "print(fname)"
   ]
  },
  {
   "cell_type": "code",
   "execution_count": 3,
   "metadata": {},
   "outputs": [
    {
     "data": {
      "text/html": [
       "<div>\n",
       "<style>\n",
       "    .dataframe thead tr:only-child th {\n",
       "        text-align: right;\n",
       "    }\n",
       "\n",
       "    .dataframe thead th {\n",
       "        text-align: left;\n",
       "    }\n",
       "\n",
       "    .dataframe tbody tr th {\n",
       "        vertical-align: top;\n",
       "    }\n",
       "</style>\n",
       "<table border=\"1\" class=\"dataframe\">\n",
       "  <thead>\n",
       "    <tr style=\"text-align: right;\">\n",
       "      <th></th>\n",
       "      <th>Country</th>\n",
       "      <th>GDP_per_capita</th>\n",
       "      <th>life_satisfaction</th>\n",
       "    </tr>\n",
       "  </thead>\n",
       "  <tbody>\n",
       "    <tr>\n",
       "      <th>0</th>\n",
       "      <td>Afghanistan</td>\n",
       "      <td>1739.583177</td>\n",
       "      <td>4.220169</td>\n",
       "    </tr>\n",
       "    <tr>\n",
       "      <th>1</th>\n",
       "      <td>Albania</td>\n",
       "      <td>11424.628320</td>\n",
       "      <td>4.511101</td>\n",
       "    </tr>\n",
       "    <tr>\n",
       "      <th>2</th>\n",
       "      <td>Algeria</td>\n",
       "      <td>13974.666220</td>\n",
       "      <td>5.388171</td>\n",
       "    </tr>\n",
       "    <tr>\n",
       "      <th>3</th>\n",
       "      <td>Angola</td>\n",
       "      <td>6024.726138</td>\n",
       "      <td>NaN</td>\n",
       "    </tr>\n",
       "    <tr>\n",
       "      <th>4</th>\n",
       "      <td>Antigua and Barbuda</td>\n",
       "      <td>20777.613080</td>\n",
       "      <td>NaN</td>\n",
       "    </tr>\n",
       "  </tbody>\n",
       "</table>\n",
       "</div>"
      ],
      "text/plain": [
       "               Country  GDP_per_capita  life_satisfaction\n",
       "0          Afghanistan     1739.583177           4.220169\n",
       "1              Albania    11424.628320           4.511101\n",
       "2              Algeria    13974.666220           5.388171\n",
       "3               Angola     6024.726138                NaN\n",
       "4  Antigua and Barbuda    20777.613080                NaN"
      ]
     },
     "execution_count": 3,
     "metadata": {},
     "output_type": "execute_result"
    }
   ],
   "source": [
    "gdp_sat_df = pd.read_csv(fname)\n",
    "gdp_sat_df.head(5)"
   ]
  },
  {
   "cell_type": "code",
   "execution_count": 7,
   "metadata": {},
   "outputs": [
    {
     "name": "stdout",
     "output_type": "stream",
     "text": [
      "0     1739.583177\n",
      "1    11424.628320\n",
      "2    13974.666220\n",
      "6    18479.442210\n",
      "7     8174.366732\n",
      "Name: GDP_per_capita, dtype: float64\n",
      "0    4.220169\n",
      "1    4.511101\n",
      "2    5.388171\n",
      "6    6.427221\n",
      "7    4.325472\n",
      "Name: life_satisfaction, dtype: float64\n"
     ]
    }
   ],
   "source": [
    "gdp_sat_df = gdp_sat_df.dropna()\n",
    "X = gdp_sat_df[\"GDP_per_capita\"]\n",
    "y = gdp_sat_df[\"life_satisfaction\"]\n",
    "print(X.head(5))\n",
    "print(y.head(5))"
   ]
  },
  {
   "cell_type": "code",
   "execution_count": 12,
   "metadata": {},
   "outputs": [
    {
     "data": {
      "image/png": "[encoded data removed]",
      "text/plain": [
       "<matplotlib.figure.Figure at 0xc498048>"
      ]
     },
     "metadata": {},
     "output_type": "display_data"
    }
   ],
   "source": [
    "plt.scatter(X, y)\n",
    "plt.xlabel(\"GDP per capita\")\n",
    "plt.ylabel(\"Life satisfaction\")\n",
    "plt.show()"
   ]
  },
  {
   "cell_type": "code",
   "execution_count": 13,
   "metadata": {},
   "outputs": [
    {
     "data": {
      "image/png": "[encoded data removed]",
      "text/plain": [
       "<matplotlib.figure.Figure at 0x3232cf8>"
      ]
     },
     "metadata": {},
     "output_type": "display_data"
    }
   ],
   "source": [
    "X1 = np.log(X)\n",
    "plt.scatter(X1, y)\n",
    "plt.xlabel(\"GDP per capita (Log)\")\n",
    "plt.ylabel(\"Life satisfaction\")\n",
    "plt.show()"
   ]
  },
  {
   "cell_type": "code",
   "execution_count": 16,
   "metadata": {},
   "outputs": [
    {
     "data": {
      "text/html": [
       "<div>\n",
       "<style>\n",
       "    .dataframe thead tr:only-child th {\n",
       "        text-align: right;\n",
       "    }\n",
       "\n",
       "    .dataframe thead th {\n",
       "        text-align: left;\n",
       "    }\n",
       "\n",
       "    .dataframe tbody tr th {\n",
       "        vertical-align: top;\n",
       "    }\n",
       "</style>\n",
       "<table border=\"1\" class=\"dataframe\">\n",
       "  <thead>\n",
       "    <tr style=\"text-align: right;\">\n",
       "      <th></th>\n",
       "      <th>Country</th>\n",
       "      <th>GDP_per_capita</th>\n",
       "      <th>life_satisfaction</th>\n",
       "      <th>gdp_log</th>\n",
       "    </tr>\n",
       "  </thead>\n",
       "  <tbody>\n",
       "    <tr>\n",
       "      <th>0</th>\n",
       "      <td>Afghanistan</td>\n",
       "      <td>1739.583177</td>\n",
       "      <td>4.220169</td>\n",
       "      <td>7.461401</td>\n",
       "    </tr>\n",
       "    <tr>\n",
       "      <th>1</th>\n",
       "      <td>Albania</td>\n",
       "      <td>11424.628320</td>\n",
       "      <td>4.511101</td>\n",
       "      <td>9.343527</td>\n",
       "    </tr>\n",
       "    <tr>\n",
       "      <th>2</th>\n",
       "      <td>Algeria</td>\n",
       "      <td>13974.666220</td>\n",
       "      <td>5.388171</td>\n",
       "      <td>9.545001</td>\n",
       "    </tr>\n",
       "    <tr>\n",
       "      <th>3</th>\n",
       "      <td>Argentina</td>\n",
       "      <td>18479.442210</td>\n",
       "      <td>6.427221</td>\n",
       "      <td>9.824414</td>\n",
       "    </tr>\n",
       "    <tr>\n",
       "      <th>4</th>\n",
       "      <td>Armenia</td>\n",
       "      <td>8174.366732</td>\n",
       "      <td>4.325472</td>\n",
       "      <td>9.008759</td>\n",
       "    </tr>\n",
       "  </tbody>\n",
       "</table>\n",
       "</div>"
      ],
      "text/plain": [
       "       Country  GDP_per_capita  life_satisfaction   gdp_log\n",
       "0  Afghanistan     1739.583177           4.220169  7.461401\n",
       "1      Albania    11424.628320           4.511101  9.343527\n",
       "2      Algeria    13974.666220           5.388171  9.545001\n",
       "3    Argentina    18479.442210           6.427221  9.824414\n",
       "4      Armenia     8174.366732           4.325472  9.008759"
      ]
     },
     "execution_count": 16,
     "metadata": {},
     "output_type": "execute_result"
    }
   ],
   "source": [
    "gdp_sat_df[\"gdp_log\"] = np.log(gdp_sat_df[\"GDP_per_capita\"])\n",
    "gdp_sat_df.index = range(gdp_sat_df.shape[0])\n",
    "gdp_sat_df.head(5)"
   ]
  },
  {
   "cell_type": "code",
   "execution_count": 20,
   "metadata": {},
   "outputs": [
    {
     "name": "stdout",
     "output_type": "stream",
     "text": [
      "Finished training\n"
     ]
    },
    {
     "name": "stderr",
     "output_type": "stream",
     "text": [
      "c:\\users\\gsshacha\\appdata\\local\\continuum\\anaconda3\\envs\\smenv\\lib\\site-packages\\ipykernel_launcher.py:2: FutureWarning: reshape is deprecated and will raise in a subsequent release. Please use .values.reshape(...) instead\n",
      "  \n"
     ]
    }
   ],
   "source": [
    "lin_reg_model = LinearRegression()\n",
    "X = gdp_sat_df[\"gdp_log\"].reshape(gdp_sat_df[\"gdp_log\"].shape[0], 1)\n",
    "y = gdp_sat_df[\"life_satisfaction\"]\n",
    "lin_reg_model.fit(X, y)\n",
    "print(\"Finished training\")"
   ]
  },
  {
   "cell_type": "code",
   "execution_count": 23,
   "metadata": {},
   "outputs": [
    {
     "name": "stdout",
     "output_type": "stream",
     "text": [
      "Coeficients are : [ 0.77437171]\n",
      "Intercept is : -1.73612917534\n"
     ]
    }
   ],
   "source": [
    "print(\"Coeficients are : {0}\".format(lin_reg_model.coef_))\n",
    "print(\"Intercept is : {0}\".format(lin_reg_model.intercept_))"
   ]
  },
  {
   "cell_type": "code",
   "execution_count": 24,
   "metadata": {},
   "outputs": [
    {
     "name": "stdout",
     "output_type": "stream",
     "text": [
      "Predicted Life expectancy of Cyprus is : [ 6.0270477]\n"
     ]
    }
   ],
   "source": [
    "# Prediction for Cyprus\n",
    "X_new = [[22587]]\n",
    "X_new_log = np.log(X_new)\n",
    "print(\"Predicted Life expectancy of Cyprus is : {0}\".format(lin_reg_model.predict(X_new_log)))"
   ]
  }
 ],
 "metadata": {
  "kernelspec": {
   "display_name": "Python 2",
   "language": "python",
   "name": "python2"
  },
  "language_info": {
   "codemirror_mode": {
    "name": "ipython",
    "version": 2
   },
   "file_extension": ".py",
   "mimetype": "text/x-python",
   "name": "python",
   "nbconvert_exporter": "python",
   "pygments_lexer": "ipython2",
   "version": "2.7.12"
  }
 },
 "nbformat": 4,
 "nbformat_minor": 2
}
