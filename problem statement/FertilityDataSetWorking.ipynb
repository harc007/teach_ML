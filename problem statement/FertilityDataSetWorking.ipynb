{
 "cells": [
  {
   "cell_type": "code",
   "execution_count": 1,
   "metadata": {
    "collapsed": true
   },
   "outputs": [],
   "source": [
    "import urllib2"
   ]
  },
  {
   "cell_type": "code",
   "execution_count": 2,
   "metadata": {},
   "outputs": [
    {
     "data": {
      "text/plain": [
       "'-0.33,0.69,0,1,1,0,0.8,0,0.88,N\\r\\n-0.33,0.94,1,0,1,'"
      ]
     },
     "execution_count": 2,
     "metadata": {},
     "output_type": "execute_result"
    }
   ],
   "source": [
    "response = urllib2.urlopen('https://archive.ics.uci.edu/ml/machine-learning-databases/00244/fertility_Diagnosis.txt')\n",
    "html = response.read()\n",
    "type(html)\n",
    "html[:50]"
   ]
  },
  {
   "cell_type": "code",
   "execution_count": 4,
   "metadata": {},
   "outputs": [
    {
     "data": {
      "text/plain": [
       "['-0.33,0.69,0,1,1,0,0.8,0,0.88,N',\n",
       " '-0.33,0.94,1,0,1,0,0.8,1,0.31,O',\n",
       " '-0.33,0.5,1,0,0,0,1,-1,0.5,N',\n",
       " '-0.33,0.75,0,1,1,0,1,-1,0.38,N',\n",
       " '-0.33,0.67,1,1,0,0,0.8,-1,0.5,O']"
      ]
     },
     "execution_count": 4,
     "metadata": {},
     "output_type": "execute_result"
    }
   ],
   "source": [
    "lines = html.split('\\r\\n')\n",
    "lines[:5]"
   ]
  },
  {
   "cell_type": "code",
   "execution_count": 5,
   "metadata": {},
   "outputs": [
    {
     "data": {
      "text/plain": [
       "[['-0.33', '0.69', '0', '1', '1', '0', '0.8', '0', '0.88', 'N'],\n",
       " ['-0.33', '0.94', '1', '0', '1', '0', '0.8', '1', '0.31', 'O'],\n",
       " ['-0.33', '0.5', '1', '0', '0', '0', '1', '-1', '0.5', 'N'],\n",
       " ['-0.33', '0.75', '0', '1', '1', '0', '1', '-1', '0.38', 'N'],\n",
       " ['-0.33', '0.67', '1', '1', '0', '0', '0.8', '-1', '0.5', 'O']]"
      ]
     },
     "execution_count": 5,
     "metadata": {},
     "output_type": "execute_result"
    }
   ],
   "source": [
    "data = [l.split(',') for l in lines]\n",
    "data[:5]"
   ]
  },
  {
   "cell_type": "code",
   "execution_count": 6,
   "metadata": {},
   "outputs": [
    {
     "data": {
      "text/html": [
       "<div>\n",
       "<style scoped>\n",
       "    .dataframe tbody tr th:only-of-type {\n",
       "        vertical-align: middle;\n",
       "    }\n",
       "\n",
       "    .dataframe tbody tr th {\n",
       "        vertical-align: top;\n",
       "    }\n",
       "\n",
       "    .dataframe thead th {\n",
       "        text-align: right;\n",
       "    }\n",
       "</style>\n",
       "<table border=\"1\" class=\"dataframe\">\n",
       "  <thead>\n",
       "    <tr style=\"text-align: right;\">\n",
       "      <th></th>\n",
       "      <th>season</th>\n",
       "      <th>age</th>\n",
       "      <th>disease</th>\n",
       "      <th>trauma</th>\n",
       "      <th>surgery</th>\n",
       "      <th>fever</th>\n",
       "      <th>alcohol</th>\n",
       "      <th>smoking</th>\n",
       "      <th>sitting</th>\n",
       "      <th>status</th>\n",
       "    </tr>\n",
       "  </thead>\n",
       "  <tbody>\n",
       "    <tr>\n",
       "      <th>0</th>\n",
       "      <td>-0.33</td>\n",
       "      <td>0.69</td>\n",
       "      <td>0</td>\n",
       "      <td>1</td>\n",
       "      <td>1</td>\n",
       "      <td>0</td>\n",
       "      <td>0.8</td>\n",
       "      <td>0</td>\n",
       "      <td>0.88</td>\n",
       "      <td>N</td>\n",
       "    </tr>\n",
       "    <tr>\n",
       "      <th>1</th>\n",
       "      <td>-0.33</td>\n",
       "      <td>0.94</td>\n",
       "      <td>1</td>\n",
       "      <td>0</td>\n",
       "      <td>1</td>\n",
       "      <td>0</td>\n",
       "      <td>0.8</td>\n",
       "      <td>1</td>\n",
       "      <td>0.31</td>\n",
       "      <td>O</td>\n",
       "    </tr>\n",
       "    <tr>\n",
       "      <th>2</th>\n",
       "      <td>-0.33</td>\n",
       "      <td>0.5</td>\n",
       "      <td>1</td>\n",
       "      <td>0</td>\n",
       "      <td>0</td>\n",
       "      <td>0</td>\n",
       "      <td>1</td>\n",
       "      <td>-1</td>\n",
       "      <td>0.5</td>\n",
       "      <td>N</td>\n",
       "    </tr>\n",
       "    <tr>\n",
       "      <th>3</th>\n",
       "      <td>-0.33</td>\n",
       "      <td>0.75</td>\n",
       "      <td>0</td>\n",
       "      <td>1</td>\n",
       "      <td>1</td>\n",
       "      <td>0</td>\n",
       "      <td>1</td>\n",
       "      <td>-1</td>\n",
       "      <td>0.38</td>\n",
       "      <td>N</td>\n",
       "    </tr>\n",
       "    <tr>\n",
       "      <th>4</th>\n",
       "      <td>-0.33</td>\n",
       "      <td>0.67</td>\n",
       "      <td>1</td>\n",
       "      <td>1</td>\n",
       "      <td>0</td>\n",
       "      <td>0</td>\n",
       "      <td>0.8</td>\n",
       "      <td>-1</td>\n",
       "      <td>0.5</td>\n",
       "      <td>O</td>\n",
       "    </tr>\n",
       "  </tbody>\n",
       "</table>\n",
       "</div>"
      ],
      "text/plain": [
       "  season   age disease trauma surgery fever alcohol smoking sitting status\n",
       "0  -0.33  0.69       0      1       1     0     0.8       0    0.88      N\n",
       "1  -0.33  0.94       1      0       1     0     0.8       1    0.31      O\n",
       "2  -0.33   0.5       1      0       0     0       1      -1     0.5      N\n",
       "3  -0.33  0.75       0      1       1     0       1      -1    0.38      N\n",
       "4  -0.33  0.67       1      1       0     0     0.8      -1     0.5      O"
      ]
     },
     "execution_count": 6,
     "metadata": {},
     "output_type": "execute_result"
    }
   ],
   "source": [
    "import pandas as pd\n",
    "cols = ['season', 'age', 'disease' ,'trauma', 'surgery', 'fever', 'alcohol', 'smoking', 'sitting', 'status']\n",
    "fertility_df = pd.DataFrame(data, columns = cols)\n",
    "fertility_df.head()"
   ]
  },
  {
   "cell_type": "code",
   "execution_count": 13,
   "metadata": {},
   "outputs": [
    {
     "data": {
      "text/plain": [
       "season     float64\n",
       "age        float64\n",
       "disease    float64\n",
       "trauma     float64\n",
       "surgery    float64\n",
       "fever      float64\n",
       "alcohol    float64\n",
       "smoking    float64\n",
       "sitting    float64\n",
       "status      object\n",
       "dtype: object"
      ]
     },
     "execution_count": 13,
     "metadata": {},
     "output_type": "execute_result"
    }
   ],
   "source": [
    "numeric_cols = [c for c in cols if c!='status']\n",
    "fertility_df[numeric_cols] = fertility_df[numeric_cols].apply(pd.to_numeric)\n",
    "fertility_df.dtypes"
   ]
  },
  {
   "cell_type": "code",
   "execution_count": 16,
   "metadata": {},
   "outputs": [
    {
     "data": {
      "text/plain": [
       "N    88\n",
       "O    12\n",
       "Name: status, dtype: int64"
      ]
     },
     "execution_count": 16,
     "metadata": {},
     "output_type": "execute_result"
    }
   ],
   "source": [
    "fertility_df['status'].value_counts()"
   ]
  },
  {
   "cell_type": "code",
   "execution_count": 18,
   "metadata": {},
   "outputs": [
    {
     "data": {
      "text/html": [
       "<div>\n",
       "<style scoped>\n",
       "    .dataframe tbody tr th:only-of-type {\n",
       "        vertical-align: middle;\n",
       "    }\n",
       "\n",
       "    .dataframe tbody tr th {\n",
       "        vertical-align: top;\n",
       "    }\n",
       "\n",
       "    .dataframe thead th {\n",
       "        text-align: right;\n",
       "    }\n",
       "</style>\n",
       "<table border=\"1\" class=\"dataframe\">\n",
       "  <thead>\n",
       "    <tr style=\"text-align: right;\">\n",
       "      <th></th>\n",
       "      <th>season</th>\n",
       "      <th>age</th>\n",
       "      <th>disease</th>\n",
       "      <th>trauma</th>\n",
       "      <th>surgery</th>\n",
       "      <th>fever</th>\n",
       "      <th>alcohol</th>\n",
       "      <th>smoking</th>\n",
       "      <th>sitting</th>\n",
       "      <th>status</th>\n",
       "      <th>status_num</th>\n",
       "    </tr>\n",
       "  </thead>\n",
       "  <tbody>\n",
       "    <tr>\n",
       "      <th>0</th>\n",
       "      <td>-0.33</td>\n",
       "      <td>0.69</td>\n",
       "      <td>0.0</td>\n",
       "      <td>1.0</td>\n",
       "      <td>1.0</td>\n",
       "      <td>0.0</td>\n",
       "      <td>0.8</td>\n",
       "      <td>0.0</td>\n",
       "      <td>0.88</td>\n",
       "      <td>N</td>\n",
       "      <td>1</td>\n",
       "    </tr>\n",
       "    <tr>\n",
       "      <th>1</th>\n",
       "      <td>-0.33</td>\n",
       "      <td>0.94</td>\n",
       "      <td>1.0</td>\n",
       "      <td>0.0</td>\n",
       "      <td>1.0</td>\n",
       "      <td>0.0</td>\n",
       "      <td>0.8</td>\n",
       "      <td>1.0</td>\n",
       "      <td>0.31</td>\n",
       "      <td>O</td>\n",
       "      <td>2</td>\n",
       "    </tr>\n",
       "    <tr>\n",
       "      <th>2</th>\n",
       "      <td>-0.33</td>\n",
       "      <td>0.50</td>\n",
       "      <td>1.0</td>\n",
       "      <td>0.0</td>\n",
       "      <td>0.0</td>\n",
       "      <td>0.0</td>\n",
       "      <td>1.0</td>\n",
       "      <td>-1.0</td>\n",
       "      <td>0.50</td>\n",
       "      <td>N</td>\n",
       "      <td>1</td>\n",
       "    </tr>\n",
       "    <tr>\n",
       "      <th>3</th>\n",
       "      <td>-0.33</td>\n",
       "      <td>0.75</td>\n",
       "      <td>0.0</td>\n",
       "      <td>1.0</td>\n",
       "      <td>1.0</td>\n",
       "      <td>0.0</td>\n",
       "      <td>1.0</td>\n",
       "      <td>-1.0</td>\n",
       "      <td>0.38</td>\n",
       "      <td>N</td>\n",
       "      <td>1</td>\n",
       "    </tr>\n",
       "    <tr>\n",
       "      <th>4</th>\n",
       "      <td>-0.33</td>\n",
       "      <td>0.67</td>\n",
       "      <td>1.0</td>\n",
       "      <td>1.0</td>\n",
       "      <td>0.0</td>\n",
       "      <td>0.0</td>\n",
       "      <td>0.8</td>\n",
       "      <td>-1.0</td>\n",
       "      <td>0.50</td>\n",
       "      <td>O</td>\n",
       "      <td>2</td>\n",
       "    </tr>\n",
       "  </tbody>\n",
       "</table>\n",
       "</div>"
      ],
      "text/plain": [
       "   season   age  disease  trauma  surgery  fever  alcohol  smoking  sitting  \\\n",
       "0   -0.33  0.69      0.0     1.0      1.0    0.0      0.8      0.0     0.88   \n",
       "1   -0.33  0.94      1.0     0.0      1.0    0.0      0.8      1.0     0.31   \n",
       "2   -0.33  0.50      1.0     0.0      0.0    0.0      1.0     -1.0     0.50   \n",
       "3   -0.33  0.75      0.0     1.0      1.0    0.0      1.0     -1.0     0.38   \n",
       "4   -0.33  0.67      1.0     1.0      0.0    0.0      0.8     -1.0     0.50   \n",
       "\n",
       "  status  status_num  \n",
       "0      N           1  \n",
       "1      O           2  \n",
       "2      N           1  \n",
       "3      N           1  \n",
       "4      O           2  "
      ]
     },
     "execution_count": 18,
     "metadata": {},
     "output_type": "execute_result"
    }
   ],
   "source": [
    "from sklearn.preprocessing import LabelEncoder\n",
    "encoder = LabelEncoder()\n",
    "fertility_df[\"status_num\"] = encoder.fit_transform(fertility_df[\"status\"])\n",
    "fertility_df.head()"
   ]
  },
  {
   "cell_type": "code",
   "execution_count": 22,
   "metadata": {},
   "outputs": [
    {
     "name": "stdout",
     "output_type": "stream",
     "text": [
      "1    88\n",
      "2    12\n",
      "0     1\n",
      "Name: status_num, dtype: int64\n",
      "     season  age  disease  trauma  surgery  fever  alcohol  smoking  sitting  \\\n",
      "100     NaN  NaN      NaN     NaN      NaN    NaN      NaN      NaN      NaN   \n",
      "\n",
      "    status  status_num  \n",
      "100   None           0  \n"
     ]
    }
   ],
   "source": [
    "print(fertility_df[\"status_num\"].value_counts())\n",
    "print(fertility_df[fertility_df[\"status_num\"]==0])"
   ]
  },
  {
   "cell_type": "code",
   "execution_count": 24,
   "metadata": {},
   "outputs": [
    {
     "name": "stdout",
     "output_type": "stream",
     "text": [
      "((100, 11), 1    88\n",
      "2    12\n",
      "Name: status_num, dtype: int64)\n"
     ]
    }
   ],
   "source": [
    "fertility_df = fertility_df.dropna()\n",
    "print(fertility_df.shape, fertility_df[\"status_num\"].value_counts())"
   ]
  },
  {
   "cell_type": "code",
   "execution_count": 27,
   "metadata": {},
   "outputs": [
    {
     "data": {
      "text/plain": [
       "status_num    1.000000\n",
       "season        0.192417\n",
       "age           0.115229\n",
       "surgery       0.054171\n",
       "smoking       0.045891\n",
       "sitting       0.022964\n",
       "disease      -0.040261\n",
       "fever        -0.121421\n",
       "trauma       -0.141346\n",
       "alcohol      -0.144760\n",
       "Name: status_num, dtype: float64"
      ]
     },
     "execution_count": 27,
     "metadata": {},
     "output_type": "execute_result"
    }
   ],
   "source": [
    "corr_matrix = fertility_df.corr()\n",
    "#print(corr_matrix, type(corr_matrix))\n",
    "corr_matrix['status_num'].sort_values(ascending=False)"
   ]
  },
  {
   "cell_type": "code",
   "execution_count": 30,
   "metadata": {},
   "outputs": [
    {
     "name": "stderr",
     "output_type": "stream",
     "text": [
      "/usr/local/lib/python2.7/dist-packages/ipykernel_launcher.py:5: FutureWarning: 'pandas.tools.plotting.scatter_matrix' is deprecated, import 'pandas.plotting.scatter_matrix' instead.\n",
      "  \"\"\"\n"
     ]
    },
    {
     "data": {
      "text/plain": [
       "array([[<matplotlib.axes._subplots.AxesSubplot object at 0x7f3d3d535d90>,\n",
       "        <matplotlib.axes._subplots.AxesSubplot object at 0x7f3d3d498dd0>,\n",
       "        <matplotlib.axes._subplots.AxesSubplot object at 0x7f3d3d414ed0>,\n",
       "        <matplotlib.axes._subplots.AxesSubplot object at 0x7f3d3d3ffa50>,\n",
       "        <matplotlib.axes._subplots.AxesSubplot object at 0x7f3d3d384a90>,\n",
       "        <matplotlib.axes._subplots.AxesSubplot object at 0x7f3d3d2f3410>,\n",
       "        <matplotlib.axes._subplots.AxesSubplot object at 0x7f3d3d274610>,\n",
       "        <matplotlib.axes._subplots.AxesSubplot object at 0x7f3d3d1d5e90>,\n",
       "        <matplotlib.axes._subplots.AxesSubplot object at 0x7f3d3d157f90>,\n",
       "        <matplotlib.axes._subplots.AxesSubplot object at 0x7f3d3ff4e950>],\n",
       "       [<matplotlib.axes._subplots.AxesSubplot object at 0x7f3d3e594490>,\n",
       "        <matplotlib.axes._subplots.AxesSubplot object at 0x7f3d3f7d2d90>,\n",
       "        <matplotlib.axes._subplots.AxesSubplot object at 0x7f3d4067ead0>,\n",
       "        <matplotlib.axes._subplots.AxesSubplot object at 0x7f3d3d0c6650>,\n",
       "        <matplotlib.axes._subplots.AxesSubplot object at 0x7f3d3d02cd10>,\n",
       "        <matplotlib.axes._subplots.AxesSubplot object at 0x7f3d3cfb3d50>,\n",
       "        <matplotlib.axes._subplots.AxesSubplot object at 0x7f3d3cf29550>,\n",
       "        <matplotlib.axes._subplots.AxesSubplot object at 0x7f3d3ceae710>,\n",
       "        <matplotlib.axes._subplots.AxesSubplot object at 0x7f3d3ce230d0>,\n",
       "        <matplotlib.axes._subplots.AxesSubplot object at 0x7f3d3cda8390>],\n",
       "       [<matplotlib.axes._subplots.AxesSubplot object at 0x7f3d3ce338d0>,\n",
       "        <matplotlib.axes._subplots.AxesSubplot object at 0x7f3d3cca1090>,\n",
       "        <matplotlib.axes._subplots.AxesSubplot object at 0x7f3d3cc4f050>,\n",
       "        <matplotlib.axes._subplots.AxesSubplot object at 0x7f3d3cb8dbd0>,\n",
       "        <matplotlib.axes._subplots.AxesSubplot object at 0x7f3d3cb14a50>,\n",
       "        <matplotlib.axes._subplots.AxesSubplot object at 0x7f3d3cb08510>,\n",
       "        <matplotlib.axes._subplots.AxesSubplot object at 0x7f3d3ca12450>,\n",
       "        <matplotlib.axes._subplots.AxesSubplot object at 0x7f3d3c9f7e90>,\n",
       "        <matplotlib.axes._subplots.AxesSubplot object at 0x7f3d3c97cf90>,\n",
       "        <matplotlib.axes._subplots.AxesSubplot object at 0x7f3d3c8f1950>],\n",
       "       [<matplotlib.axes._subplots.AxesSubplot object at 0x7f3d3c877a50>,\n",
       "        <matplotlib.axes._subplots.AxesSubplot object at 0x7f3d3c7eb4d0>,\n",
       "        <matplotlib.axes._subplots.AxesSubplot object at 0x7f3d3c770850>,\n",
       "        <matplotlib.axes._subplots.AxesSubplot object at 0x7f3d3c7af150>,\n",
       "        <matplotlib.axes._subplots.AxesSubplot object at 0x7f3d3c66a590>,\n",
       "        <matplotlib.axes._subplots.AxesSubplot object at 0x7f3d3c5f1410>,\n",
       "        <matplotlib.axes._subplots.AxesSubplot object at 0x7f3d3c563110>,\n",
       "        <matplotlib.axes._subplots.AxesSubplot object at 0x7f3d3c4def50>,\n",
       "        <matplotlib.axes._subplots.AxesSubplot object at 0x7f3d3c452810>,\n",
       "        <matplotlib.axes._subplots.AxesSubplot object at 0x7f3d3c3d8850>],\n",
       "       [<matplotlib.axes._subplots.AxesSubplot object at 0x7f3d3c3c0f10>,\n",
       "        <matplotlib.axes._subplots.AxesSubplot object at 0x7f3d3c2d4110>,\n",
       "        <matplotlib.axes._subplots.AxesSubplot object at 0x7f3d3c2baa90>,\n",
       "        <matplotlib.axes._subplots.AxesSubplot object at 0x7f3d3c23fd50>,\n",
       "        <matplotlib.axes._subplots.AxesSubplot object at 0x7f3d3c256590>,\n",
       "        <matplotlib.axes._subplots.AxesSubplot object at 0x7f3d3c139a50>,\n",
       "        <matplotlib.axes._subplots.AxesSubplot object at 0x7f3d3c0ebc50>,\n",
       "        <matplotlib.axes._subplots.AxesSubplot object at 0x7f3d3c0345d0>,\n",
       "        <matplotlib.axes._subplots.AxesSubplot object at 0x7f3d3bfbc450>,\n",
       "        <matplotlib.axes._subplots.AxesSubplot object at 0x7f3d3bf21ed0>],\n",
       "       [<matplotlib.axes._subplots.AxesSubplot object at 0x7f3d3bea8e10>,\n",
       "        <matplotlib.axes._subplots.AxesSubplot object at 0x7f3d3be1b890>,\n",
       "        <matplotlib.axes._subplots.AxesSubplot object at 0x7f3d3bda2990>,\n",
       "        <matplotlib.axes._subplots.AxesSubplot object at 0x7f3d3bd18350>,\n",
       "        <matplotlib.axes._subplots.AxesSubplot object at 0x7f3d3bc9d450>,\n",
       "        <matplotlib.axes._subplots.AxesSubplot object at 0x7f3d3bc78e90>,\n",
       "        <matplotlib.axes._subplots.AxesSubplot object at 0x7f3d3bb96250>,\n",
       "        <matplotlib.axes._subplots.AxesSubplot object at 0x7f3d3bbcb950>,\n",
       "        <matplotlib.axes._subplots.AxesSubplot object at 0x7f3d3bb03f50>,\n",
       "        <matplotlib.axes._subplots.AxesSubplot object at 0x7f3d3ba89dd0>],\n",
       "       [<matplotlib.axes._subplots.AxesSubplot object at 0x7f3d3b9fcad0>,\n",
       "        <matplotlib.axes._subplots.AxesSubplot object at 0x7f3d3b983950>,\n",
       "        <matplotlib.axes._subplots.AxesSubplot object at 0x7f3d3b8f7210>,\n",
       "        <matplotlib.axes._subplots.AxesSubplot object at 0x7f3d3b87e250>,\n",
       "        <matplotlib.axes._subplots.AxesSubplot object at 0x7f3d3b7e5910>,\n",
       "        <matplotlib.axes._subplots.AxesSubplot object at 0x7f3d3b76bad0>,\n",
       "        <matplotlib.axes._subplots.AxesSubplot object at 0x7f3d3b6e1490>,\n",
       "        <matplotlib.axes._subplots.AxesSubplot object at 0x7f3d3b668750>,\n",
       "        <matplotlib.axes._subplots.AxesSubplot object at 0x7f3d3b6f2b50>,\n",
       "        <matplotlib.axes._subplots.AxesSubplot object at 0x7f3d3b562450>],\n",
       "       [<matplotlib.axes._subplots.AxesSubplot object at 0x7f3d3b510550>,\n",
       "        <matplotlib.axes._subplots.AxesSubplot object at 0x7f3d3b44bf90>,\n",
       "        <matplotlib.axes._subplots.AxesSubplot object at 0x7f3d3b3d5e10>,\n",
       "        <matplotlib.axes._subplots.AxesSubplot object at 0x7f3d3b3c78d0>,\n",
       "        <matplotlib.axes._subplots.AxesSubplot object at 0x7f3d3b2cf810>,\n",
       "        <matplotlib.axes._subplots.AxesSubplot object at 0x7f3d3ca20e10>,\n",
       "        <matplotlib.axes._subplots.AxesSubplot object at 0x7f3d3b20a210>,\n",
       "        <matplotlib.axes._subplots.AxesSubplot object at 0x7f3d3b1e6f90>,\n",
       "        <matplotlib.axes._subplots.AxesSubplot object at 0x7f3d3b182290>,\n",
       "        <matplotlib.axes._subplots.AxesSubplot object at 0x7f3d3b113790>],\n",
       "       [<matplotlib.axes._subplots.AxesSubplot object at 0x7f3d3b07d090>,\n",
       "        <matplotlib.axes._subplots.AxesSubplot object at 0x7f3d3aff8ed0>,\n",
       "        <matplotlib.axes._subplots.AxesSubplot object at 0x7f3d3af6bbd0>,\n",
       "        <matplotlib.axes._subplots.AxesSubplot object at 0x7f3d3aef2a50>,\n",
       "        <matplotlib.axes._subplots.AxesSubplot object at 0x7f3d3ae65310>,\n",
       "        <matplotlib.axes._subplots.AxesSubplot object at 0x7f3d3adeb350>,\n",
       "        <matplotlib.axes._subplots.AxesSubplot object at 0x7f3d3ad52a10>,\n",
       "        <matplotlib.axes._subplots.AxesSubplot object at 0x7f3d3acdabd0>,\n",
       "        <matplotlib.axes._subplots.AxesSubplot object at 0x7f3d3ac4e590>,\n",
       "        <matplotlib.axes._subplots.AxesSubplot object at 0x7f3d3abd4850>],\n",
       "       [<matplotlib.axes._subplots.AxesSubplot object at 0x7f3d3ac5da50>,\n",
       "        <matplotlib.axes._subplots.AxesSubplot object at 0x7f3d3aacf550>,\n",
       "        <matplotlib.axes._subplots.AxesSubplot object at 0x7f3d3aafe510>,\n",
       "        <matplotlib.axes._subplots.AxesSubplot object at 0x7f3d3aa490d0>,\n",
       "        <matplotlib.axes._subplots.AxesSubplot object at 0x7f3d3a9c2f10>,\n",
       "        <matplotlib.axes._subplots.AxesSubplot object at 0x7f3d3a9349d0>,\n",
       "        <matplotlib.axes._subplots.AxesSubplot object at 0x7f3d3a8bc910>,\n",
       "        <matplotlib.axes._subplots.AxesSubplot object at 0x7f3d3a830390>,\n",
       "        <matplotlib.axes._subplots.AxesSubplot object at 0x7f3d3a7b7490>,\n",
       "        <matplotlib.axes._subplots.AxesSubplot object at 0x7f3d3a71ce10>]], dtype=object)"
      ]
     },
     "execution_count": 30,
     "metadata": {},
     "output_type": "execute_result"
    },
    {
     "data": {
      "image/png": "[encoded data removed]",
      "text/plain": [
       "<matplotlib.figure.Figure at 0x7f3d82ef7210>"
      ]
     },
     "metadata": {},
     "output_type": "display_data"
    }
   ],
   "source": [
    "from pandas.tools.plotting import scatter_matrix\n",
    "%matplotlib inline\n",
    "import matplotlib.pyplot as plt\n",
    "attributes = [\"status_num\", 'season', 'age', 'disease' ,'trauma', 'surgery', 'fever', 'alcohol', 'smoking', 'sitting']\n",
    "scatter_matrix(fertility_df[attributes], figsize=(12, 8))"
   ]
  },
  {
   "cell_type": "code",
   "execution_count": 31,
   "metadata": {},
   "outputs": [
    {
     "data": {
      "text/plain": [
       "(100, 10)"
      ]
     },
     "execution_count": 31,
     "metadata": {},
     "output_type": "execute_result"
    }
   ],
   "source": [
    "fertility_df.drop(['status'], axis=1, inplace=True)\n",
    "fertility_df.shape"
   ]
  },
  {
   "cell_type": "code",
   "execution_count": 32,
   "metadata": {},
   "outputs": [
    {
     "name": "stdout",
     "output_type": "stream",
     "text": [
      "((75, 10), (25, 10))\n"
     ]
    }
   ],
   "source": [
    "from sklearn.model_selection import train_test_split\n",
    "train_df, test_df = train_test_split(fertility_df, test_size=0.25)\n",
    "print(train_df.shape, test_df.shape)"
   ]
  },
  {
   "cell_type": "code",
   "execution_count": 33,
   "metadata": {},
   "outputs": [
    {
     "name": "stdout",
     "output_type": "stream",
     "text": [
      "((75, 9), (75,), (25, 9), (25,))\n"
     ]
    }
   ],
   "source": [
    "X_train = train_df.drop(['status_num'], axis=1)\n",
    "y_train = train_df[\"status_num\"]\n",
    "X_test = test_df.drop(['status_num'], axis=1)\n",
    "y_test = test_df[\"status_num\"]\n",
    "print(X_train.shape, y_train.shape, X_test.shape, y_test.shape)"
   ]
  },
  {
   "cell_type": "code",
   "execution_count": 34,
   "metadata": {},
   "outputs": [
    {
     "name": "stderr",
     "output_type": "stream",
     "text": [
      "/usr/local/lib/python2.7/dist-packages/sklearn/linear_model/stochastic_gradient.py:128: FutureWarning: max_iter and tol parameters have been added in <class 'sklearn.linear_model.stochastic_gradient.SGDClassifier'> in 0.19. If both are left unset, they default to max_iter=5 and tol=None. If tol is not None, max_iter defaults to max_iter=1000. From 0.21, default max_iter will be 1000, and default tol will be 1e-3.\n",
      "  \"and default tol will be 1e-3.\" % type(self), FutureWarning)\n"
     ]
    },
    {
     "data": {
      "text/plain": [
       "SGDClassifier(alpha=0.0001, average=False, class_weight=None, epsilon=0.1,\n",
       "       eta0=0.0, fit_intercept=True, l1_ratio=0.15,\n",
       "       learning_rate='optimal', loss='hinge', max_iter=None, n_iter=None,\n",
       "       n_jobs=1, penalty='l2', power_t=0.5, random_state=None,\n",
       "       shuffle=True, tol=None, verbose=0, warm_start=False)"
      ]
     },
     "execution_count": 34,
     "metadata": {},
     "output_type": "execute_result"
    }
   ],
   "source": [
    "from sklearn.linear_model import SGDClassifier\n",
    "sgd_clf = SGDClassifier()\n",
    "sgd_clf.fit(X_train, y_train)\n",
    "sgd_clf"
   ]
  },
  {
   "cell_type": "code",
   "execution_count": 35,
   "metadata": {},
   "outputs": [
    {
     "data": {
      "text/plain": [
       "array([[60,  8],\n",
       "       [ 6,  1]])"
      ]
     },
     "execution_count": 35,
     "metadata": {},
     "output_type": "execute_result"
    }
   ],
   "source": [
    "from sklearn.model_selection import cross_val_predict\n",
    "y_train_pred = cross_val_predict(sgd_clf, X_train, y_train, cv=3)\n",
    "\n",
    "from sklearn.metrics import confusion_matrix\n",
    "confusion_matrix(y_train, y_train_pred)"
   ]
  },
  {
   "cell_type": "code",
   "execution_count": 58,
   "metadata": {},
   "outputs": [
    {
     "name": "stdout",
     "output_type": "stream",
     "text": [
      "((102, 9), (102,))\n"
     ]
    },
    {
     "name": "stderr",
     "output_type": "stream",
     "text": [
      "/usr/local/lib/python2.7/dist-packages/sklearn/utils/deprecation.py:77: DeprecationWarning: Function _ratio_float is deprecated; Use a float for 'ratio' is deprecated from version 0.2. The support will be removed in 0.4. Use a dict, str, or a callable instead.\n",
      "  warnings.warn(msg, category=DeprecationWarning)\n"
     ]
    }
   ],
   "source": [
    "from imblearn.over_sampling import SMOTE\n",
    "sm = SMOTE(random_state=12, ratio = 0.5)\n",
    "X_train_res, y_train_res = sm.fit_sample(X_train, y_train)\n",
    "print(X_train_res.shape, y_train_res.shape)"
   ]
  },
  {
   "cell_type": "code",
   "execution_count": 39,
   "metadata": {},
   "outputs": [
    {
     "data": {
      "text/plain": [
       "SGDClassifier(alpha=0.0001, average=False, class_weight=None, epsilon=0.1,\n",
       "       eta0=0.0, fit_intercept=True, l1_ratio=0.15,\n",
       "       learning_rate='optimal', loss='hinge', max_iter=None, n_iter=None,\n",
       "       n_jobs=1, penalty='l2', power_t=0.5, random_state=None,\n",
       "       shuffle=True, tol=None, verbose=0, warm_start=False)"
      ]
     },
     "execution_count": 39,
     "metadata": {},
     "output_type": "execute_result"
    }
   ],
   "source": [
    "from sklearn.linear_model import SGDClassifier\n",
    "sgd_clf = SGDClassifier()\n",
    "sgd_clf.fit(X_train_res, y_train_res)\n",
    "sgd_clf"
   ]
  },
  {
   "cell_type": "code",
   "execution_count": 41,
   "metadata": {},
   "outputs": [
    {
     "data": {
      "text/plain": [
       "array([[60,  8],\n",
       "       [45, 23]])"
      ]
     },
     "execution_count": 41,
     "metadata": {},
     "output_type": "execute_result"
    }
   ],
   "source": [
    "from sklearn.model_selection import cross_val_predict\n",
    "y_train_pred = cross_val_predict(sgd_clf, X_train_res, y_train_res, cv=3)\n",
    "\n",
    "from sklearn.metrics import confusion_matrix\n",
    "confusion_matrix(y_train_res, y_train_pred)"
   ]
  },
  {
   "cell_type": "code",
   "execution_count": 42,
   "metadata": {},
   "outputs": [
    {
     "data": {
      "text/plain": [
       "LogisticRegression(C=1.0, class_weight=None, dual=False, fit_intercept=True,\n",
       "          intercept_scaling=1, max_iter=100, multi_class='ovr', n_jobs=1,\n",
       "          penalty='l2', random_state=None, solver='liblinear', tol=0.0001,\n",
       "          verbose=0, warm_start=False)"
      ]
     },
     "execution_count": 42,
     "metadata": {},
     "output_type": "execute_result"
    }
   ],
   "source": [
    "from sklearn.linear_model import LogisticRegression\n",
    "log_reg = LogisticRegression()\n",
    "log_reg.fit(X_train_res, y_train_res)\n",
    "log_reg"
   ]
  },
  {
   "cell_type": "code",
   "execution_count": 44,
   "metadata": {},
   "outputs": [
    {
     "data": {
      "text/plain": [
       "array([[53, 15],\n",
       "       [ 0, 68]])"
      ]
     },
     "execution_count": 44,
     "metadata": {},
     "output_type": "execute_result"
    }
   ],
   "source": [
    "from sklearn.model_selection import cross_val_predict\n",
    "y_train_pred = cross_val_predict(log_reg, X_train_res, y_train_res, cv=3)\n",
    "\n",
    "from sklearn.metrics import confusion_matrix\n",
    "confusion_matrix(y_train_res, y_train_pred)"
   ]
  },
  {
   "cell_type": "code",
   "execution_count": 45,
   "metadata": {},
   "outputs": [
    {
     "data": {
      "text/plain": [
       "DecisionTreeClassifier(class_weight=None, criterion='gini', max_depth=None,\n",
       "            max_features=None, max_leaf_nodes=None,\n",
       "            min_impurity_decrease=0.0, min_impurity_split=None,\n",
       "            min_samples_leaf=1, min_samples_split=2,\n",
       "            min_weight_fraction_leaf=0.0, presort=False, random_state=None,\n",
       "            splitter='best')"
      ]
     },
     "execution_count": 45,
     "metadata": {},
     "output_type": "execute_result"
    }
   ],
   "source": [
    "from sklearn.tree import DecisionTreeClassifier\n",
    "tree_clf = DecisionTreeClassifier()\n",
    "tree_clf.fit(X_train_res, y_train_res)\n",
    "tree_clf"
   ]
  },
  {
   "cell_type": "code",
   "execution_count": 46,
   "metadata": {},
   "outputs": [
    {
     "data": {
      "text/plain": [
       "array([[64,  4],\n",
       "       [ 4, 64]])"
      ]
     },
     "execution_count": 46,
     "metadata": {},
     "output_type": "execute_result"
    }
   ],
   "source": [
    "from sklearn.model_selection import cross_val_predict\n",
    "y_train_pred = cross_val_predict(tree_clf, X_train_res, y_train_res, cv=3)\n",
    "\n",
    "from sklearn.metrics import confusion_matrix\n",
    "confusion_matrix(y_train_res, y_train_pred)"
   ]
  },
  {
   "cell_type": "code",
   "execution_count": 59,
   "metadata": {},
   "outputs": [
    {
     "data": {
      "text/plain": [
       "RandomForestClassifier(bootstrap=True, class_weight=None, criterion='gini',\n",
       "            max_depth=None, max_features='auto', max_leaf_nodes=None,\n",
       "            min_impurity_decrease=0.0, min_impurity_split=None,\n",
       "            min_samples_leaf=1, min_samples_split=2,\n",
       "            min_weight_fraction_leaf=0.0, n_estimators=10, n_jobs=1,\n",
       "            oob_score=False, random_state=None, verbose=0,\n",
       "            warm_start=False)"
      ]
     },
     "execution_count": 59,
     "metadata": {},
     "output_type": "execute_result"
    }
   ],
   "source": [
    "from sklearn.ensemble import RandomForestClassifier\n",
    "forest_clf = RandomForestClassifier()\n",
    "forest_clf.fit(X_train_res, y_train_res)\n",
    "forest_clf"
   ]
  },
  {
   "cell_type": "code",
   "execution_count": 60,
   "metadata": {},
   "outputs": [
    {
     "data": {
      "text/plain": [
       "array([[65,  3],\n",
       "       [ 6, 28]])"
      ]
     },
     "execution_count": 60,
     "metadata": {},
     "output_type": "execute_result"
    }
   ],
   "source": [
    "y_train_pred = cross_val_predict(forest_clf, X_train_res, y_train_res, cv=3)\n",
    "\n",
    "from sklearn.metrics import confusion_matrix\n",
    "confusion_matrix(y_train_res, y_train_pred)"
   ]
  },
  {
   "cell_type": "code",
   "execution_count": 50,
   "metadata": {},
   "outputs": [
    {
     "data": {
      "text/plain": [
       "SVC(C=1.0, cache_size=200, class_weight=None, coef0=0.0,\n",
       "  decision_function_shape='ovr', degree=3, gamma='auto', kernel='rbf',\n",
       "  max_iter=-1, probability=False, random_state=None, shrinking=True,\n",
       "  tol=0.001, verbose=False)"
      ]
     },
     "execution_count": 50,
     "metadata": {},
     "output_type": "execute_result"
    }
   ],
   "source": [
    "from sklearn.svm import SVC\n",
    "svm_clf = SVC()\n",
    "svm_clf.fit(X_train_res, y_train_res)\n",
    "svm_clf"
   ]
  },
  {
   "cell_type": "code",
   "execution_count": 51,
   "metadata": {},
   "outputs": [
    {
     "data": {
      "text/plain": [
       "array([[53, 15],\n",
       "       [ 0, 68]])"
      ]
     },
     "execution_count": 51,
     "metadata": {},
     "output_type": "execute_result"
    }
   ],
   "source": [
    "y_train_pred = cross_val_predict(svm_clf, X_train_res, y_train_res, cv=3)\n",
    "confusion_matrix(y_train_res, y_train_pred)"
   ]
  },
  {
   "cell_type": "code",
   "execution_count": 63,
   "metadata": {},
   "outputs": [
    {
     "data": {
      "text/plain": [
       "array([[19,  1],\n",
       "       [ 4,  1]])"
      ]
     },
     "execution_count": 63,
     "metadata": {},
     "output_type": "execute_result"
    }
   ],
   "source": [
    "y_test_pred = log_reg.predict(X_test)\n",
    "confusion_matrix(y_test, y_test_pred)"
   ]
  },
  {
   "cell_type": "code",
   "execution_count": null,
   "metadata": {
    "collapsed": true
   },
   "outputs": [],
   "source": []
  }
 ],
 "metadata": {
  "kernelspec": {
   "display_name": "Python 2",
   "language": "python",
   "name": "python2"
  },
  "language_info": {
   "codemirror_mode": {
    "name": "ipython",
    "version": 2
   },
   "file_extension": ".py",
   "mimetype": "text/x-python",
   "name": "python",
   "nbconvert_exporter": "python",
   "pygments_lexer": "ipython2",
   "version": "2.7.12"
  }
 },
 "nbformat": 4,
 "nbformat_minor": 2
}
