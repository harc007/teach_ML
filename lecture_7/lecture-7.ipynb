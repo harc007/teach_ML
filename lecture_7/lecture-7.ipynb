{
 "cells": [
  {
   "cell_type": "code",
   "execution_count": 2,
   "metadata": {
    "collapsed": true
   },
   "outputs": [],
   "source": [
    "# Building a voting classifier\n",
    "from sklearn.ensemble import RandomForestClassifier\n",
    "from sklearn.ensemble import VotingClassifier\n",
    "from sklearn.linear_model import LogisticRegression\n",
    "from sklearn.svm import SVC\n",
    "from sklearn.datasets import make_moons\n",
    "import numpy as np\n",
    "from sklearn.model_selection import train_test_split"
   ]
  },
  {
   "cell_type": "code",
   "execution_count": 3,
   "metadata": {},
   "outputs": [
    {
     "name": "stdout",
     "output_type": "stream",
     "text": [
      "((80L, 2L), (80L,), (20L, 2L), (20L,))\n"
     ]
    }
   ],
   "source": [
    "X, y = make_moons()\n",
    "X_train, X_test, y_train, y_test = train_test_split(X, y, test_size=0.2, random_state=42)\n",
    "print(X_train.shape, y_train.shape, X_test.shape, y_test.shape)"
   ]
  },
  {
   "cell_type": "code",
   "execution_count": 4,
   "metadata": {},
   "outputs": [
    {
     "data": {
      "text/plain": [
       "VotingClassifier(estimators=[('lr', LogisticRegression(C=1.0, class_weight=None, dual=False, fit_intercept=True,\n",
       "          intercept_scaling=1, max_iter=100, multi_class='ovr', n_jobs=1,\n",
       "          penalty='l2', random_state=None, solver='liblinear', tol=0.0001,\n",
       "          verbose=0, warm_start=False)), ('rf', RandomF...,\n",
       "  max_iter=-1, probability=False, random_state=None, shrinking=True,\n",
       "  tol=0.001, verbose=False))],\n",
       "         n_jobs=1, voting='hard', weights=None)"
      ]
     },
     "execution_count": 4,
     "metadata": {},
     "output_type": "execute_result"
    }
   ],
   "source": [
    "log_clf = LogisticRegression()\n",
    "rnd_clf = RandomForestClassifier()\n",
    "svm_clf = SVC()\n",
    "\n",
    "voting_clf = VotingClassifier(\n",
    "        estimators=[('lr', log_clf), ('rf',\trnd_clf), ('svc', svm_clf)],\n",
    "        voting='hard'\n",
    "    ) \n",
    "voting_clf.fit(X_train, y_train)"
   ]
  },
  {
   "cell_type": "code",
   "execution_count": 5,
   "metadata": {},
   "outputs": [
    {
     "name": "stdout",
     "output_type": "stream",
     "text": [
      "('LogisticRegression', 0.90000000000000002)\n",
      "('RandomForestClassifier', 0.94999999999999996)\n",
      "('SVC', 0.90000000000000002)\n",
      "('VotingClassifier', 0.90000000000000002)\n"
     ]
    }
   ],
   "source": [
    "from sklearn.metrics import accuracy_score\n",
    "for clf in (log_clf, rnd_clf, svm_clf, voting_clf):\n",
    "    clf.fit(X_train, y_train)\n",
    "    y_pred = clf.predict(X_test)\n",
    "    print(clf.__class__.__name__, accuracy_score(y_test, y_pred)) "
   ]
  },
  {
   "cell_type": "code",
   "execution_count": 6,
   "metadata": {
    "collapsed": true
   },
   "outputs": [],
   "source": [
    "from sklearn.ensemble import BaggingClassifier\n",
    "from sklearn.tree import DecisionTreeClassifier\n",
    "bag_clf = BaggingClassifier(\n",
    "        DecisionTreeClassifier(), n_estimators=500,\n",
    "        max_samples=80, bootstrap=True,n_jobs=-1\n",
    "    )\n",
    "bag_clf.fit(X_train, y_train)\n",
    "y_pred = bag_clf.predict(X_test)"
   ]
  },
  {
   "cell_type": "code",
   "execution_count": 7,
   "metadata": {},
   "outputs": [
    {
     "data": {
      "text/plain": [
       "0.94999999999999996"
      ]
     },
     "execution_count": 7,
     "metadata": {},
     "output_type": "execute_result"
    }
   ],
   "source": [
    "bag_clf = BaggingClassifier(\n",
    "        DecisionTreeClassifier(), n_estimators=500, bootstrap=True, n_jobs=-1, oob_score=True\n",
    ")\n",
    "bag_clf.fit(X_train, y_train)\n",
    "bag_clf.oob_score_"
   ]
  },
  {
   "cell_type": "code",
   "execution_count": 8,
   "metadata": {},
   "outputs": [
    {
     "data": {
      "text/plain": [
       "0.90000000000000002"
      ]
     },
     "execution_count": 8,
     "metadata": {},
     "output_type": "execute_result"
    }
   ],
   "source": [
    "from sklearn.metrics import accuracy_score\n",
    "y_pred = bag_clf.predict(X_test)\n",
    "accuracy_score(y_test, y_pred)\n",
    "# Go to slide"
   ]
  },
  {
   "cell_type": "code",
   "execution_count": 9,
   "metadata": {},
   "outputs": [
    {
     "data": {
      "text/plain": [
       "0.90000000000000002"
      ]
     },
     "execution_count": 9,
     "metadata": {},
     "output_type": "execute_result"
    }
   ],
   "source": [
    "#following code trains a RandomForestclassifier with 500 trees(each limited to maximum 16 nodes), using all CPU cores:\n",
    "from sklearn.ensemble import RandomForestClassifier\n",
    "rnd_clf = RandomForestClassifier(n_estimators=500, max_leaf_nodes=16, n_jobs=-1) \n",
    "rnd_clf.fit(X_train, y_train)\n",
    "y_pred_rf = rnd_clf.predict(X_test)\n",
    "accuracy_score(y_test, y_pred)"
   ]
  },
  {
   "cell_type": "code",
   "execution_count": 10,
   "metadata": {},
   "outputs": [
    {
     "name": "stdout",
     "output_type": "stream",
     "text": [
      "('sepal length (cm)', 0.098374690537116311)\n",
      "('sepal width (cm)', 0.026048816021454115)\n",
      "('petal length (cm)', 0.41325757582911177)\n",
      "('petal width (cm)', 0.46231891761231803)\n"
     ]
    }
   ],
   "source": [
    "from sklearn.datasets import load_iris\n",
    "iris = load_iris()\n",
    "rnd_clf = RandomForestClassifier(n_estimators=500, n_jobs=-1)\n",
    "rnd_clf.fit(iris[\"data\"], iris[\"target\"])\n",
    "for name, score in zip(iris[\"feature_names\"], rnd_clf.feature_importances_):\n",
    "    print(name, score)\n",
    "# Go to slide"
   ]
  },
  {
   "cell_type": "code",
   "execution_count": 11,
   "metadata": {},
   "outputs": [
    {
     "data": {
      "text/plain": [
       "AdaBoostClassifier(algorithm='SAMME.R',\n",
       "          base_estimator=DecisionTreeClassifier(class_weight=None, criterion='gini', max_depth=1,\n",
       "            max_features=None, max_leaf_nodes=None,\n",
       "            min_impurity_split=1e-07, min_samples_leaf=1,\n",
       "            min_samples_split=2, min_weight_fraction_leaf=0.0,\n",
       "            presort=False, random_state=None, splitter='best'),\n",
       "          learning_rate=0.5, n_estimators=200, random_state=None)"
      ]
     },
     "execution_count": 11,
     "metadata": {},
     "output_type": "execute_result"
    }
   ],
   "source": [
    "from sklearn.ensemble import AdaBoostClassifier\n",
    "ada_clf = AdaBoostClassifier(DecisionTreeClassifier(max_depth=1), n_estimators=200, algorithm=\"SAMME.R\",\n",
    "                             learning_rate=0.5) \n",
    "ada_clf.fit(X_train, y_train)"
   ]
  },
  {
   "cell_type": "markdown",
   "metadata": {},
   "source": [
    "# PCA"
   ]
  },
  {
   "cell_type": "code",
   "execution_count": 1,
   "metadata": {},
   "outputs": [
    {
     "name": "stdout",
     "output_type": "stream",
     "text": [
      "X:[[ 1.68666247  0.00314304  0.58908717]\n",
      " [ 0.94541302  1.16391345 -0.18154195]\n",
      " [ 0.96464984 -1.09060035  1.26285788]\n",
      " [-0.63305698  1.13362833 -1.14527477]\n",
      " [-0.40029623 -1.21090228 -0.07163133]] \n",
      "\n",
      " C1:[-0.41671624  0.66689655 -0.61773503] \n",
      "\n",
      " C2:[ 0.75867893  0.62948663  0.16778817]\n"
     ]
    }
   ],
   "source": [
    "import numpy as np\n",
    "X = np.random.randn(5, 3)\n",
    "X_centered = X - X.mean(axis=0)\n",
    "U, s, V = np.linalg.svd(X_centered)\n",
    "c1 = V.T[:, 0]\n",
    "c2 = V.T[:,\t1]\n",
    "print(\"X:{0} \\n\\n C1:{1} \\n\\n C2:{2}\".format(X, c1, c2))\n",
    "# Go to slide"
   ]
  },
  {
   "cell_type": "code",
   "execution_count": 2,
   "metadata": {},
   "outputs": [
    {
     "name": "stdout",
     "output_type": "stream",
     "text": [
      "[[-0.79488631  0.97638502]\n",
      " [ 0.76416276  1.01540169]\n",
      " [-1.63963739 -0.14683683]\n",
      " [ 1.99707133 -0.36291728]\n",
      " [-0.3267104  -1.4820326 ]]\n"
     ]
    }
   ],
   "source": [
    "W2 = V.T[:, :2] \n",
    "X2D = X_centered.dot(W2)\n",
    "print(X2D)"
   ]
  },
  {
   "cell_type": "code",
   "execution_count": 3,
   "metadata": {},
   "outputs": [
    {
     "name": "stdout",
     "output_type": "stream",
     "text": [
      "[[-0.79488631 -0.97638502]\n",
      " [ 0.76416276 -1.01540169]\n",
      " [-1.63963739  0.14683683]\n",
      " [ 1.99707133  0.36291728]\n",
      " [-0.3267104   1.4820326 ]]\n"
     ]
    }
   ],
   "source": [
    "# Using scikit learn\n",
    "from sklearn.decomposition import PCA\n",
    "pca = PCA(n_components=2)\n",
    "X2D = pca.fit_transform(X)\n",
    "print(X2D)"
   ]
  },
  {
   "cell_type": "code",
   "execution_count": 4,
   "metadata": {},
   "outputs": [
    {
     "data": {
      "text/plain": [
       "array([[-0.41671624,  0.66689655, -0.61773503],\n",
       "       [-0.75867893, -0.62948663, -0.16778817]])"
      ]
     },
     "execution_count": 4,
     "metadata": {},
     "output_type": "execute_result"
    }
   ],
   "source": [
    "pca.components_"
   ]
  },
  {
   "cell_type": "code",
   "execution_count": 5,
   "metadata": {},
   "outputs": [
    {
     "data": {
      "text/plain": [
       "array([ 0.64189187,  0.34778298])"
      ]
     },
     "execution_count": 5,
     "metadata": {},
     "output_type": "execute_result"
    }
   ],
   "source": [
    "pca.explained_variance_ratio_"
   ]
  },
  {
   "cell_type": "code",
   "execution_count": 6,
   "metadata": {},
   "outputs": [
    {
     "name": "stdout",
     "output_type": "stream",
     "text": [
      "(array([ 0.30068871,  0.25101727,  0.17531633,  0.11825618,  0.0831394 ,\n",
      "        0.04859839,  0.02298373,  0.        ,  0.        ,  0.        ]), 6)\n"
     ]
    }
   ],
   "source": [
    "# Choosing right number of dimensions\n",
    "X = np.random.randn(20, 7)\n",
    "X = np.append(X, np.zeros([20, 3]), axis=1)\n",
    "pca = PCA()\n",
    "pca.fit(X)\n",
    "cumsum = np.cumsum(pca.explained_variance_ratio_)\n",
    "d = np.argmax(cumsum >= 0.95) + 1\n",
    "var = pca.explained_variance_ratio_\n",
    "print(var, d)\n",
    "pca = PCA(n_components=d)\n",
    "X_reduced = pca.fit_transform(X)"
   ]
  },
  {
   "cell_type": "code",
   "execution_count": 7,
   "metadata": {},
   "outputs": [
    {
     "name": "stdout",
     "output_type": "stream",
     "text": [
      "[[ 0.85022263  1.5484234  -0.82528531  0.64721103 -0.21070343 -0.50888155]\n",
      " [-0.05591302  0.31089979 -1.27967769 -0.27241967  0.10586583 -0.25020597]\n",
      " [ 0.66844676  1.45327657 -0.45279947  1.04393738  2.10480349  0.24047372]\n",
      " [-0.23094765 -1.97415411  0.36546028  0.06874723  0.93868198 -0.03593818]\n",
      " [-3.42804758  3.02963117  1.21694805 -0.53091746 -0.07234086 -0.18778582]\n",
      " [-1.11817373 -0.64585889  2.09494441 -0.55006037 -0.69448103  1.50984535]\n",
      " [ 1.15225454 -1.42648506  0.31331665 -1.27445549  0.69653595  0.03295422]\n",
      " [-2.77988708 -1.13012922 -0.52023993  2.26222608  0.56844165 -0.62781643]\n",
      " [-1.55272926 -0.9263473  -1.7069715  -0.03023196 -0.57808682  0.11974582]\n",
      " [ 0.95654983 -0.17158238  0.60259533 -0.60178359 -0.09450117 -0.89149158]\n",
      " [ 1.14838665  1.32877408 -0.11982654  0.47177012 -1.82463498  0.13099196]\n",
      " [ 1.39510148  1.44673454 -2.30445628 -1.11618339 -0.00952125  0.1257625 ]\n",
      " [ 0.99932951  2.48703164  2.54012106  0.00568869  0.6905331  -0.18594664]\n",
      " [ 1.07035829 -1.52790942  0.39262069 -1.16069012  0.79992517  0.17865471]\n",
      " [ 3.54447233 -0.69589415  0.70053356  0.93020632 -0.76670904 -0.51056662]\n",
      " [-0.7655491  -1.09927757  0.82887363  0.43957273 -1.06236396 -0.89657782]\n",
      " [-0.61096463 -1.25860295  0.09854774 -0.60460246  0.21352112 -0.09035777]\n",
      " [ 0.80435693 -0.6163029  -0.07343371  2.0200795  -0.22131712  1.47196419]\n",
      " [-1.4822318  -1.14227654 -0.11417476 -0.99534093 -0.4209922  -0.34283523]\n",
      " [-0.5650351   1.01004931 -1.75709619 -0.75275367 -0.16265644  0.71801113]]\n"
     ]
    }
   ],
   "source": [
    "pca2 = PCA(n_components=0.95)\n",
    "X_reduced = pca2.fit_transform(X)\n",
    "print(X_reduced)"
   ]
  },
  {
   "cell_type": "code",
   "execution_count": 9,
   "metadata": {},
   "outputs": [
    {
     "data": {
      "image/png": "[encoded data removed]",
      "text/plain": [
       "<matplotlib.figure.Figure at 0xa671438>"
      ]
     },
     "metadata": {},
     "output_type": "display_data"
    }
   ],
   "source": [
    "from matplotlib import pyplot as plt\n",
    "plt.plot([i+1 for i in range(var.shape[0])], (np.max(var) - var)/np.max(var))\n",
    "plt.xlabel(\"Dimensions\")\n",
    "plt.ylabel(\"Explained variance\")\n",
    "plt.show()"
   ]
  },
  {
   "cell_type": "code",
   "execution_count": 10,
   "metadata": {},
   "outputs": [
    {
     "data": {
      "text/plain": [
       "(70000L, 784L)"
      ]
     },
     "execution_count": 10,
     "metadata": {},
     "output_type": "execute_result"
    }
   ],
   "source": [
    "# PCA for Compression \n",
    "from sklearn.datasets import fetch_mldata\n",
    "mnist = fetch_mldata('MNIST original')\n",
    "X_mnist = mnist.data\n",
    "X_mnist.shape"
   ]
  },
  {
   "cell_type": "code",
   "execution_count": 11,
   "metadata": {},
   "outputs": [
    {
     "name": "stdout",
     "output_type": "stream",
     "text": [
      "Reduced matrix shape:(70000L, 154L) \n",
      " Recovered matrix shape:(70000L, 784L)\n"
     ]
    }
   ],
   "source": [
    "pca = PCA(n_components = 0.95)\n",
    "X_mnist_reduced = pca.fit_transform(X_mnist) \n",
    "X_mnist_recovered = pca.inverse_transform(X_mnist_reduced)\n",
    "print(\"Reduced matrix shape:{0} \\n Recovered matrix shape:{1}\".format(X_mnist_reduced.shape, X_mnist_recovered.shape))"
   ]
  },
  {
   "cell_type": "code",
   "execution_count": 14,
   "metadata": {},
   "outputs": [
    {
     "name": "stdout",
     "output_type": "stream",
     "text": [
      "Reduced matrix shape:(70000L, 154L)\n",
      "Normal PCA components:[[  4.63140573e-19   0.00000000e+00   0.00000000e+00 ...,   0.00000000e+00\n",
      "    0.00000000e+00   0.00000000e+00]\n",
      " [ -1.81016245e-19  -2.77555756e-17  -6.93889390e-17 ...,   0.00000000e+00\n",
      "    0.00000000e+00   0.00000000e+00]\n",
      " [  4.18487201e-19   0.00000000e+00   1.11022302e-16 ...,   0.00000000e+00\n",
      "    0.00000000e+00   0.00000000e+00]\n",
      " ..., \n",
      " [  2.30881685e-18   2.25514052e-16  -7.28583860e-17 ...,   0.00000000e+00\n",
      "    0.00000000e+00   0.00000000e+00]\n",
      " [ -6.37736910e-19   7.97972799e-17  -2.77555756e-17 ...,  -0.00000000e+00\n",
      "   -0.00000000e+00  -0.00000000e+00]\n",
      " [ -2.47471794e-18  -2.42861287e-17   3.71230824e-16 ...,   0.00000000e+00\n",
      "    0.00000000e+00   0.00000000e+00]]\n",
      "Inc PCA components:[[  4.41597720e-18   2.77555756e-16  -2.66453526e-15 ...,  -0.00000000e+00\n",
      "   -0.00000000e+00  -0.00000000e+00]\n",
      " [ -3.33647272e-18  -1.24900090e-16   7.77156117e-16 ...,  -0.00000000e+00\n",
      "   -0.00000000e+00  -0.00000000e+00]\n",
      " [ -2.95382658e-17  -3.33066907e-16  -3.66373598e-15 ...,   0.00000000e+00\n",
      "    0.00000000e+00   0.00000000e+00]\n",
      " ..., \n",
      " [ -1.43511543e-17   1.40946282e-17   7.37691158e-16 ...,  -0.00000000e+00\n",
      "   -0.00000000e+00  -0.00000000e+00]\n",
      " [  4.39055605e-17  -1.48058649e-15   4.66640615e-16 ...,  -0.00000000e+00\n",
      "   -0.00000000e+00  -0.00000000e+00]\n",
      " [  8.96899923e-18   9.85214514e-16   1.22341373e-15 ...,   0.00000000e+00\n",
      "    0.00000000e+00   0.00000000e+00]]\n"
     ]
    }
   ],
   "source": [
    "# Incremental PCA to split training set into batches for PCA\n",
    "from sklearn.decomposition import IncrementalPCA\n",
    "n_batches = 100\n",
    "inc_pca = IncrementalPCA(n_components=154)\n",
    "for X_batch in np.array_split(X_mnist, n_batches):\n",
    "    inc_pca.partial_fit(X_batch)\n",
    "X_mnist_reduced_inc = inc_pca.transform(X_mnist)\n",
    "print(\"Reduced matrix shape:{0}\\nNormal PCA components:{1}\\nInc PCA components:{2}\".\n",
    "      format(X_mnist_reduced_inc.shape, pca.components_, inc_pca.components_))"
   ]
  },
  {
   "cell_type": "code",
   "execution_count": 16,
   "metadata": {},
   "outputs": [
    {
     "name": "stdout",
     "output_type": "stream",
     "text": [
      "(70000L, 154L)\n"
     ]
    }
   ],
   "source": [
    "# Randomized PCA- computational complexity is O(m × d2) + O(d3), instead of O(m × n2) + O(n3)\n",
    "rnd_pca = PCA(n_components=154, svd_solver=\"randomized\")\n",
    "X_reduced = rnd_pca.fit_transform(X_mnist)\n",
    "print(X_reduced.shape)"
   ]
  },
  {
   "cell_type": "code",
   "execution_count": null,
   "metadata": {
    "collapsed": true
   },
   "outputs": [],
   "source": [
    "# Go to slide"
   ]
  }
 ],
 "metadata": {
  "kernelspec": {
   "display_name": "Python 2",
   "language": "python",
   "name": "python2"
  },
  "language_info": {
   "codemirror_mode": {
    "name": "ipython",
    "version": 2
   },
   "file_extension": ".py",
   "mimetype": "text/x-python",
   "name": "python",
   "nbconvert_exporter": "python",
   "pygments_lexer": "ipython2",
   "version": "2.7.12"
  }
 },
 "nbformat": 4,
 "nbformat_minor": 2
}
